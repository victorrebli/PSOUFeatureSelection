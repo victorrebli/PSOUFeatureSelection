{
 "cells": [
  {
   "cell_type": "code",
   "execution_count": 1,
   "metadata": {},
   "outputs": [],
   "source": [
    "from importlib import reload\n",
    "from scipy.io import arff\n",
    "import copy\n",
    "import principal\n",
    "from principal import PSOSelector\n",
    "reload(principal)\n",
    "import lightgbm as lgb\n",
    "import numpy as np\n",
    "import collections\n",
    "import pandas as pd\n",
    "import sys\n",
    "from sklearn.cluster import KMeans\n",
    "from sklearn.model_selection import train_test_split"
   ]
  },
  {
   "cell_type": "code",
   "execution_count": 2,
   "metadata": {},
   "outputs": [],
   "source": [
    "data = pd.read_csv('data/creditcard.csv')"
   ]
  },
  {
   "cell_type": "code",
   "execution_count": 3,
   "metadata": {},
   "outputs": [],
   "source": [
    "label = data.Class\n",
    "data = data.drop(['Time', 'Class'], axis=1)"
   ]
  },
  {
   "cell_type": "code",
   "execution_count": 4,
   "metadata": {},
   "outputs": [],
   "source": [
    "X_train, X_test, y_train, y_test = train_test_split(data , label, test_size=0.33, random_state=42) "
   ]
  },
  {
   "cell_type": "code",
   "execution_count": null,
   "metadata": {},
   "outputs": [],
   "source": [
    "estimator = KMeans(n_clusters=2, random_state=0)"
   ]
  },
  {
   "cell_type": "code",
   "execution_count": null,
   "metadata": {},
   "outputs": [],
   "source": [
    "model = PSOSelector(estimator, w=0.7298, c1=1.49618, c2=1.49618,\n",
    "                    num_particles=2, max_iter=10, max_local_improvement=50,\n",
    "                    maximize_objective=True, initialization='uniform',\n",
    "                    fitness_method='type_2', cv = 3)"
   ]
  },
  {
   "cell_type": "code",
   "execution_count": null,
   "metadata": {},
   "outputs": [
    {
     "name": "stderr",
     "output_type": "stream",
     "text": [
      "[05/20 10:12:45] Iteration: 1/10 \n",
      " ,Best global metric - CP X PF: [0.19662666] \n",
      " , Best global metric purity: 0.5 \n",
      " ,Best global metric f-measure: 0.6659158743295897 \n",
      " ,Index features_selected: [ 3 12 13 14 22 26] \n",
      " , Number of selected features: 6 \n",
      " , Columns selected: Index(['V4', 'V13', 'V14', 'V15', 'V23', 'V27'], dtype='object')\n",
      "[05/20 10:16:57] Iteration: 2/10 \n",
      " ,Best global metric - CP X PF: [0.19662666] \n",
      " , Best global metric purity: 0.5 \n",
      " ,Best global metric f-measure: 0.6659158743295897 \n",
      " ,Index features_selected: [ 3 12 13 14 22 26] \n",
      " , Number of selected features: 6 \n",
      " , Columns selected: Index(['V4', 'V13', 'V14', 'V15', 'V23', 'V27'], dtype='object')\n",
      "[05/20 10:21:26] Iteration: 3/10 \n",
      " ,Best global metric - CP X PF: [0.19662666] \n",
      " , Best global metric purity: 0.5 \n",
      " ,Best global metric f-measure: 0.6659158743295897 \n",
      " ,Index features_selected: [ 3 12 13 14 22 26] \n",
      " , Number of selected features: 6 \n",
      " , Columns selected: Index(['V4', 'V13', 'V14', 'V15', 'V23', 'V27'], dtype='object')\n",
      "[05/20 10:25:40] Iteration: 4/10 \n",
      " ,Best global metric - CP X PF: [0.19662666] \n",
      " , Best global metric purity: 0.5 \n",
      " ,Best global metric f-measure: 0.6659158743295897 \n",
      " ,Index features_selected: [ 3 12 13 14 22 26] \n",
      " , Number of selected features: 6 \n",
      " , Columns selected: Index(['V4', 'V13', 'V14', 'V15', 'V23', 'V27'], dtype='object')\n",
      "[05/20 10:29:50] Iteration: 5/10 \n",
      " ,Best global metric - CP X PF: [0.19662666] \n",
      " , Best global metric purity: 0.5 \n",
      " ,Best global metric f-measure: 0.6659158743295897 \n",
      " ,Index features_selected: [ 3 12 13 14 22 26] \n",
      " , Number of selected features: 6 \n",
      " , Columns selected: Index(['V4', 'V13', 'V14', 'V15', 'V23', 'V27'], dtype='object')\n",
      "[05/20 10:34:05] Iteration: 6/10 \n",
      " ,Best global metric - CP X PF: [0.19662666] \n",
      " , Best global metric purity: 0.5 \n",
      " ,Best global metric f-measure: 0.6659158743295897 \n",
      " ,Index features_selected: [ 3 12 13 14 22 26] \n",
      " , Number of selected features: 6 \n",
      " , Columns selected: Index(['V4', 'V13', 'V14', 'V15', 'V23', 'V27'], dtype='object')\n",
      "[05/20 10:38:16] Iteration: 7/10 \n",
      " ,Best global metric - CP X PF: [0.19662666] \n",
      " , Best global metric purity: 0.5 \n",
      " ,Best global metric f-measure: 0.6659158743295897 \n",
      " ,Index features_selected: [ 3 12 13 14 22 26] \n",
      " , Number of selected features: 6 \n",
      " , Columns selected: Index(['V4', 'V13', 'V14', 'V15', 'V23', 'V27'], dtype='object')\n",
      "[05/20 10:42:23] Iteration: 8/10 \n",
      " ,Best global metric - CP X PF: [0.19662666] \n",
      " , Best global metric purity: 0.5 \n",
      " ,Best global metric f-measure: 0.6659158743295897 \n",
      " ,Index features_selected: [ 3 12 13 14 22 26] \n",
      " , Number of selected features: 6 \n",
      " , Columns selected: Index(['V4', 'V13', 'V14', 'V15', 'V23', 'V27'], dtype='object')\n",
      "[05/20 10:46:29] Iteration: 9/10 \n",
      " ,Best global metric - CP X PF: [0.19662666] \n",
      " , Best global metric purity: 0.5 \n",
      " ,Best global metric f-measure: 0.6659158743295897 \n",
      " ,Index features_selected: [ 3 12 13 14 22 26] \n",
      " , Number of selected features: 6 \n",
      " , Columns selected: Index(['V4', 'V13', 'V14', 'V15', 'V23', 'V27'], dtype='object')\n"
     ]
    }
   ],
   "source": [
    "model.fit(X_train, unused_y=y_train)"
   ]
  },
  {
   "cell_type": "code",
   "execution_count": null,
   "metadata": {},
   "outputs": [],
   "source": [
    "#np.random.choice([0,1,2,3,4], 2, replace=False)"
   ]
  }
 ],
 "metadata": {
  "kernelspec": {
   "display_name": "Python 3",
   "language": "python",
   "name": "python3"
  },
  "language_info": {
   "codemirror_mode": {
    "name": "ipython",
    "version": 3
   },
   "file_extension": ".py",
   "mimetype": "text/x-python",
   "name": "python",
   "nbconvert_exporter": "python",
   "pygments_lexer": "ipython3",
   "version": "3.7.1"
  }
 },
 "nbformat": 4,
 "nbformat_minor": 2
}
